{
 "cells": [
  {
   "cell_type": "code",
   "execution_count": 16,
   "id": "44628507-cb8b-465f-8cbb-780a3faeb165",
   "metadata": {},
   "outputs": [
    {
     "name": "stderr",
     "output_type": "stream",
     "text": [
      "[nltk_data] Downloading package punkt_tab to\n",
      "[nltk_data]     C:\\Users\\tahar\\AppData\\Roaming\\nltk_data...\n",
      "[nltk_data]   Package punkt_tab is already up-to-date!\n",
      "[nltk_data] Downloading package stopwords to\n",
      "[nltk_data]     C:\\Users\\tahar\\AppData\\Roaming\\nltk_data...\n",
      "[nltk_data]   Package stopwords is already up-to-date!\n",
      "[nltk_data] Downloading package wordnet to\n",
      "[nltk_data]     C:\\Users\\tahar\\AppData\\Roaming\\nltk_data...\n",
      "[nltk_data]   Package wordnet is already up-to-date!\n"
     ]
    },
    {
     "data": {
      "text/plain": [
       "True"
      ]
     },
     "execution_count": 16,
     "metadata": {},
     "output_type": "execute_result"
    }
   ],
   "source": [
    "import pandas as pd\n",
    "import numpy as np\n",
    "import nltk\n",
    "import re\n",
    "from sklearn.model_selection import train_test_split\n",
    "from nltk.corpus import stopwords\n",
    "from nltk.stem import WordNetLemmatizer\n",
    "from sklearn.metrics import classification_report, confusion_matrix\n",
    "from transformers import BertTokenizer, BertForSequenceClassification, Trainer, TrainingArguments\n",
    "from sklearn.metrics import accuracy_score, precision_recall_fscore_support\n",
    "\n",
    "# Téléchargement des ressources NLTK nécessaires\n",
    "nltk.download('punkt_tab')\n",
    "nltk.download('stopwords')\n",
    "nltk.download('wordnet')"
   ]
  },
  {
   "cell_type": "code",
   "execution_count": 17,
   "id": "39201ee4-a32c-460c-9cb5-35056cca415f",
   "metadata": {},
   "outputs": [],
   "source": [
    "df = pd.read_csv('IMDB Dataset.csv')  \n",
    "df = df.sample(1000, random_state=42).reset_index(drop=True)"
   ]
  },
  {
   "cell_type": "code",
   "execution_count": 18,
   "id": "18c22527-b11c-43ed-bece-76f411d18e2e",
   "metadata": {},
   "outputs": [],
   "source": [
    "def clean_text(text):\n",
    "    text = re.sub(r'http\\S+', '', text)  # Suppression des URLs\n",
    "    text = re.sub(r'[^a-zA-Z\\s]', '', text)  # Suppression des caractères spéciaux et chiffres\n",
    "    text = text.lower()  # Conversion en minuscules\n",
    "    text = [lemmatizer.lemmatize(word) for word in text if word not in stop_words]        \n",
    "    return text"
   ]
  },
  {
   "cell_type": "code",
   "execution_count": 19,
   "id": "54d67e06-c1df-46ad-baaf-5aa89dc6b868",
   "metadata": {},
   "outputs": [],
   "source": [
    "df['cleaned_review'] = df['review'].apply(clean_text)\n",
    "\n",
    "# Séparation des données en train et test\n",
    "X_train, X_test, y_train, y_test = train_test_split(df['cleaned_review'], df['sentiment'], test_size=0.2, random_state=42)\n",
    "\n",
    "# Tokenisation avec BERT\n",
    "tokenizer = BertTokenizer.from_pretrained('bert-base-uncased')"
   ]
  },
  {
   "cell_type": "code",
   "execution_count": 20,
   "id": "4b9daf5b-f891-4181-920e-f1b870320f92",
   "metadata": {},
   "outputs": [],
   "source": [
    "def tokenize_data(texts):\n",
    "    return tokenizer(texts.tolist(), padding=True, truncation=True, max_length=512, return_tensors='pt')\n",
    "\n",
    "train_encodings = tokenize_data(X_train)\n",
    "test_encodings = tokenize_data(X_test)\n",
    "label_mapping = {'negative': 0, 'positive': 1}\n",
    "y_train = y_train.map(label_mapping)\n",
    "y_test = y_test.map(label_mapping)"
   ]
  },
  {
   "cell_type": "code",
   "execution_count": 21,
   "id": "52d25603-f391-47f7-a692-bd91ccaf7573",
   "metadata": {},
   "outputs": [],
   "source": [
    "import torch\n",
    "from transformers import BertTokenizer, BertForSequenceClassification\n",
    "class MovieReviewsDataset(torch.utils.data.Dataset):\n",
    "    def __init__(self, encodings, labels):\n",
    "        self.encodings = encodings\n",
    "        self.labels = labels\n",
    "\n",
    "    def __getitem__(self, idx):\n",
    "        item = {key: torch.tensor(val[idx]) for key, val in self.encodings.items()}\n",
    "        item['labels'] = torch.tensor(self.labels.iloc[idx])  # Convertir les étiquettes en tenseur\n",
    "        return item\n",
    "\n",
    "    def __len__(self):\n",
    "        return len(self.labels)\n",
    "\n",
    "train_dataset = MovieReviewsDataset(train_encodings, y_train)\n",
    "test_dataset = MovieReviewsDataset(test_encodings, y_test)"
   ]
  },
  {
   "cell_type": "code",
   "execution_count": 22,
   "id": "020edfa1-df03-4d05-a571-210f7b540119",
   "metadata": {},
   "outputs": [
    {
     "name": "stderr",
     "output_type": "stream",
     "text": [
      "Some weights of BertForSequenceClassification were not initialized from the model checkpoint at bert-base-uncased and are newly initialized: ['classifier.bias', 'classifier.weight']\n",
      "You should probably TRAIN this model on a down-stream task to be able to use it for predictions and inference.\n",
      "C:\\Users\\tahar\\AppData\\Local\\Temp\\ipykernel_27304\\2992333691.py:9: UserWarning: To copy construct from a tensor, it is recommended to use sourceTensor.clone().detach() or sourceTensor.clone().detach().requires_grad_(True), rather than torch.tensor(sourceTensor).\n",
      "  item = {key: torch.tensor(val[idx]) for key, val in self.encodings.items()}\n"
     ]
    },
    {
     "data": {
      "text/html": [
       "\n",
       "    <div>\n",
       "      \n",
       "      <progress value='150' max='150' style='width:300px; height:20px; vertical-align: middle;'></progress>\n",
       "      [150/150 1:35:16, Epoch 3/3]\n",
       "    </div>\n",
       "    <table border=\"1\" class=\"dataframe\">\n",
       "  <thead>\n",
       " <tr style=\"text-align: left;\">\n",
       "      <th>Step</th>\n",
       "      <th>Training Loss</th>\n",
       "    </tr>\n",
       "  </thead>\n",
       "  <tbody>\n",
       "    <tr>\n",
       "      <td>10</td>\n",
       "      <td>0.761900</td>\n",
       "    </tr>\n",
       "    <tr>\n",
       "      <td>20</td>\n",
       "      <td>0.730500</td>\n",
       "    </tr>\n",
       "    <tr>\n",
       "      <td>30</td>\n",
       "      <td>0.671400</td>\n",
       "    </tr>\n",
       "    <tr>\n",
       "      <td>40</td>\n",
       "      <td>0.691800</td>\n",
       "    </tr>\n",
       "    <tr>\n",
       "      <td>50</td>\n",
       "      <td>0.683600</td>\n",
       "    </tr>\n",
       "    <tr>\n",
       "      <td>60</td>\n",
       "      <td>0.672100</td>\n",
       "    </tr>\n",
       "    <tr>\n",
       "      <td>70</td>\n",
       "      <td>0.661800</td>\n",
       "    </tr>\n",
       "    <tr>\n",
       "      <td>80</td>\n",
       "      <td>0.602900</td>\n",
       "    </tr>\n",
       "    <tr>\n",
       "      <td>90</td>\n",
       "      <td>0.653400</td>\n",
       "    </tr>\n",
       "    <tr>\n",
       "      <td>100</td>\n",
       "      <td>0.622900</td>\n",
       "    </tr>\n",
       "    <tr>\n",
       "      <td>110</td>\n",
       "      <td>0.558400</td>\n",
       "    </tr>\n",
       "    <tr>\n",
       "      <td>120</td>\n",
       "      <td>0.477900</td>\n",
       "    </tr>\n",
       "    <tr>\n",
       "      <td>130</td>\n",
       "      <td>0.445700</td>\n",
       "    </tr>\n",
       "    <tr>\n",
       "      <td>140</td>\n",
       "      <td>0.394700</td>\n",
       "    </tr>\n",
       "    <tr>\n",
       "      <td>150</td>\n",
       "      <td>0.401600</td>\n",
       "    </tr>\n",
       "  </tbody>\n",
       "</table><p>"
      ],
      "text/plain": [
       "<IPython.core.display.HTML object>"
      ]
     },
     "metadata": {},
     "output_type": "display_data"
    },
    {
     "data": {
      "text/plain": [
       "TrainOutput(global_step=150, training_loss=0.6020281664530436, metrics={'train_runtime': 5757.4096, 'train_samples_per_second': 0.417, 'train_steps_per_second': 0.026, 'total_flos': 631466532864000.0, 'train_loss': 0.6020281664530436, 'epoch': 3.0})"
      ]
     },
     "execution_count": 22,
     "metadata": {},
     "output_type": "execute_result"
    }
   ],
   "source": [
    "model = BertForSequenceClassification.from_pretrained('bert-base-uncased', num_labels=2)\n",
    "\n",
    "# Paramètres d'entraînement\n",
    "training_args = TrainingArguments(\n",
    "    output_dir='./results',          # Répertoire où les résultats seront sauvegardés\n",
    "    num_train_epochs=3,              # Nombre d'époques d'entraînement\n",
    "    per_device_train_batch_size=16,  # Taille du batch pour l'entraînement\n",
    "    per_device_eval_batch_size=64,   # Taille du batch pour l'évaluation\n",
    "    warmup_steps=500,                # Nombre d'étapes de réchauffement\n",
    "    weight_decay=0.01,               # Taux de décroissance du poids\n",
    "    logging_dir='./logs',            # Répertoire pour les logs\n",
    "    logging_steps=10,\n",
    ")\n",
    "\n",
    "# Entraînement du modèle avec le Trainer de HuggingFace\n",
    "trainer = Trainer(\n",
    "    model=model,                         # Le modèle pré-entrainé\n",
    "    args=training_args,                  # Paramètres d'entraînement\n",
    "    train_dataset=train_dataset,         # Jeu de données d'entraînement\n",
    "    eval_dataset=test_dataset,           # Jeu de données de test\n",
    "    compute_metrics=lambda p: {'accuracy': accuracy_score(p.predictions.argmax(axis=-1), p.label_ids)}\n",
    ")\n",
    "\n",
    "trainer.train()"
   ]
  },
  {
   "cell_type": "code",
   "execution_count": 23,
   "id": "2c2c0038-dab5-40fd-b980-7274d2f7ca7b",
   "metadata": {
    "scrolled": true
   },
   "outputs": [
    {
     "name": "stderr",
     "output_type": "stream",
     "text": [
      "C:\\Users\\tahar\\AppData\\Local\\Temp\\ipykernel_27304\\2992333691.py:9: UserWarning: To copy construct from a tensor, it is recommended to use sourceTensor.clone().detach() or sourceTensor.clone().detach().requires_grad_(True), rather than torch.tensor(sourceTensor).\n",
      "  item = {key: torch.tensor(val[idx]) for key, val in self.encodings.items()}\n"
     ]
    },
    {
     "data": {
      "text/html": [],
      "text/plain": [
       "<IPython.core.display.HTML object>"
      ]
     },
     "metadata": {},
     "output_type": "display_data"
    },
    {
     "name": "stdout",
     "output_type": "stream",
     "text": [
      "Evaluation Results: {'eval_loss': 0.42433974146842957, 'eval_accuracy': 0.835, 'eval_runtime': 85.2053, 'eval_samples_per_second': 2.347, 'eval_steps_per_second': 0.047, 'epoch': 3.0}\n"
     ]
    },
    {
     "name": "stderr",
     "output_type": "stream",
     "text": [
      "C:\\Users\\tahar\\AppData\\Local\\Temp\\ipykernel_27304\\2992333691.py:9: UserWarning: To copy construct from a tensor, it is recommended to use sourceTensor.clone().detach() or sourceTensor.clone().detach().requires_grad_(True), rather than torch.tensor(sourceTensor).\n",
      "  item = {key: torch.tensor(val[idx]) for key, val in self.encodings.items()}\n"
     ]
    },
    {
     "name": "stdout",
     "output_type": "stream",
     "text": [
      "              precision    recall  f1-score   support\n",
      "\n",
      "           0       0.95      0.75      0.84       114\n",
      "           1       0.74      0.94      0.83        86\n",
      "\n",
      "    accuracy                           0.83       200\n",
      "   macro avg       0.84      0.85      0.83       200\n",
      "weighted avg       0.86      0.83      0.84       200\n",
      "\n"
     ]
    },
    {
     "data": {
      "image/png": "[encoded data removed]",
      "text/plain": [
       "<Figure size 640x480 with 2 Axes>"
      ]
     },
     "metadata": {},
     "output_type": "display_data"
    },
    {
     "name": "stdout",
     "output_type": "stream",
     "text": [
      "Exemple de critiques mal classées :\n",
      "Critique : Jane Austen would definitely approve of this one!<br /><br />Gwyneth Paltrow does an awesome job capturing the attitude of Emma. She is funny without being excessively silly, yet elegant. She puts on a very convincing British accent (not being British myself, maybe I'm not the best judge, but she fooled me...she was also excellent in \"Sliding Doors\"...I sometimes forget she's American ~!). <br /><br />Also brilliant are Jeremy Northam and Sophie Thompson and Phyllida Law (Emma Thompson's sister and mother) as the Bates women. They nearly steal the show...and Ms. Law doesn't even have any lines!<br /><br />Highly recommended.\n",
      "Sentiment réel : 0, Sentiment prédit : 1\n",
      "\n",
      "Critique : I was very disappointed with this series. It had lots of cool graphics and that's about it. The level of detail it went into was minimal, and I always got the feeling the audience was being patronized -- there was a lot of what seemed to me as \"This is extremely cool but we're not going to explain it in further detail because you won't get it anyway. Let's just show you some pretty pictures to entertain you.\" The host would drop interesting-sounding words such as \"sparticles\" and \"super-symmetry\" without any attempt at explaining what it was. We had to look it up on Wikipedia.<br /><br />Furthermore, I know quite a bit about superstrings (for a layman) and I found their explanations were convoluted and could have been so much better. They could have chosen MUCH better examples to explain concepts, but instead, the examples they used were confusing and further obscured the subject.<br /><br />Additionally, I got so sick of the repetitiveness. They could easily have condensed the series into one episode if they had cut out all the repetition. They must have shown the clips of the Quantum Café about 8 times. The host kept saying the same things over and over and over again. I can't remember how many times he said \"The universe is made out of tiny little vibrating strings.\" It's like they were trying to brainwash us into just accepting \"superstrings are the best thing since sliced bread.\"<br /><br />Finally, the show ended off with an unpleasant sense of a \"competition\" between Fermilab and CERN, clearly biased towards Fermilab. This is supposed to be an educational program about quantum physics, not about whether the US is better than Europe or vice versa! I also felt that was part of the patronizing -- \"Audiences need to see some conflict to remain interested.\" Please. Give me a little more credit than that.<br /><br />Overall, 2 thumbs down :-(\n",
      "Sentiment réel : 0, Sentiment prédit : 1\n",
      "\n",
      "Critique : The first 30 minutes of Tinseltown had my finger teetering on the remote, poised to flick around to watch something else. The premise of two writers, down on their luck, living in a self-storage-space \"bin\" was mildly amusing, but, painfully bland.<br /><br />The introduction of the character, played by Joe Pantoliano - the big deal movie guy, that lives in the park and sleeps in a lavatory, offered hope and I decided to give it a few more minutes. And then a few more until Kristy Swansons introduction as a budding film director & borderline nymphomaniac, added a bit of spice. Her solid acting performance raised her presence above and beyond just a very welcome eye-candy inclusion.<br /><br />Ultimately, the obvious low-budget impacts on the film with poorly shot scenes, stuttured pace and slapstick handling of certain moments. Some of my favourite movies of all time have been low budget, Whithnail & I being one that also deals with 2 guys with a dream, but down on their luck.<br /><br />However, for my money, the actors save Tinseltown from the \"Terrible movie\" archives and just about nudges it into the \"could have been a cult movie\" archives. I laughed out loud at some of the scenes involving Joe Pantoliano's character. In particular, the penultimate scenes in the terribly clichéd, but still funny, rich-but-screwed-up characters house, where the story unravels towards it's final moments.<br /><br />I can see how Tinseltown was a great stage play and while the film-makers did their best to translate this to celluloid, it simply didn't work and while I laughed out loud at some of scenes and one liners, I think the first 30 minutes dulled my senses and expectations to such a degree I would have laughed at anything.<br /><br />Unless you're stuck for a novelty coffee coaster, don't pick this up if you see it in a bargain bucket.\n",
      "Sentiment réel : 0, Sentiment prédit : 1\n",
      "\n",
      "Critique : This movie was released originally as a soft \"X\", apparently with the explicit sex deleted. Later, the producers \"relented\" (smelled money) and re-released it with the excised scenes restored (apparently only about 3 minutes). I guess since Kristine was of age, it was held against her and her promising career came grinding to a halt. I guess its all in the timing (witness Pam Anderson's career)--but Ronald Reagan was in charge during Kristine's debacle (we had not heard about Nancy Reagan's affairs), Bill Clinton and Monica Lewinski were in full swing during Pam's \"coming out\".<br /><br />The sex is just icing on the cake, both version satisfy. This naughty musical is way above similar of others that were released at the same time.\n",
      "Sentiment réel : 0, Sentiment prédit : 1\n",
      "\n",
      "Critique : I'm writing this note as a chess player as well as as a movie viewer. I watched the 1997 Kasparov-Deep Blue games on the Internet. I know something about the issues that were raised. Other chess players will come along and want to know whether this movie is worth seeing/buying, and I'm talking largely to them. However, I'll try not to ignore those who aren't \"into chess\".<br /><br />This movie is about the 1997 match between Garry Kasparov and the custom-built computer \"Deep Blue\". However, the first image you see in the movie is not of Kasparov, or of the computer, but of \"THE TURK\". This is an \"automaton\" which was built in Europe at the turn of the 18th-19th century and played winning chess against all comers. I put the word \"automaton\" in quotes because it was, as everyone now knows, a fake. There was a man inside it.<br /><br />If you don't like seeing \"THE TURK\", then you won't be able to stand the movie, because \"THE TURK\" has as much screen time as Kasparov, maybe more, both in modern footage and in b/w footage from some old movie. The reappearance of \"THE TURK\" every few seconds underscores Kasparov's charge that \"Deep Blue\" had human assistance - that it was (to some degree) a fake computer, that IBM cheated, that there was \"a man inside it\" working behind the scenes to help it win. Not only does Kasparov believe this, but the filmmakers seem to believe it too. And so this is not really much of a movie about chess games or about programming chess computers. It is a propaganda piece about a big corporation supposedly misusing a helpless grandmaster. Really it is a lot like a \"negative campaign ad\", as it is chock full of ominous music and evocative camera work and spooky sound effects and innuendos (\"we never found out what was behind that locked door\") and the ever-present \"TURK\".<br /><br />Now, most people in the chess community are pretty much convinced that IBM did not cheat and that this was Garry's paranoia at work. To start with, in order for a human to help \"Deep Blue\" beat Kasparov, it would seem that you would need a human who was better than \"Deep Blue\" AND better than Kasparov. Since there was no such person, the whole idea is a bit suspect from the start. Furthermore, by the time this movie was made, there were computer programs that could run on your PC that could beat strong grandmasters. Today, much more than in 1997, we take it for granted that a computer can do things you might not expect. And we are less likely to take it as a monumental human tragedy that a computer beat a guy in chess. (And in fact, the bottom line is that Kasparov beat himself with two bad mistakes, including resigning game 2 in a drawn position.) <br /><br />As for the chess games, you actually see very little of them. There are a few comments from masters and commentators that tell briefly how they went, but really you don't get to see hardly any of the strategy or tactics at all. Naturally as a chess player I take this as a major shortcoming, but I think that non-players are being cheated too. Imagine a baseball movie, for example, where you don't hardly get to see any of the game - just a commentator telling you that \"in Game Four, the White Sox defeated the Astros with such and such a score.\" Nobody would make a movie like that. But here, for example, we are told that Kasparov made a bad blunder in the opening of the decisive game 6, but we aren't shown the position on the screen, or told why it was a blunder, or what he should have done instead, or anything. We just see a few seconds of Kasparov holding his head in his hands, and then more atmospheric sound effects and camera work.<br /><br />(Since I saw this on DVD, let me warn chess players about the DVD as well. The jacket promises you that the Extras include the games \"with analysis\". Is this grandmaster analysis, which people like us might find interesting? NO! It is the automated computer voice synthesizer analysis from some version of Chessmaster, that tells you when a piece is attacked and a pawn gets isolated and that you are in the \"Caro-Kann Defense, Main Line\". Blahhhh.) <br /><br />Someone might then come along and say, \"Well, clearly this movie is meant to dramatize the match for the non-player, and so it's unfair to be impatient with it.\" But actually it doesn't do a very good job of reaching out to the non-player either - it skates over some points that a true novice would really want to have explained. For example it says that Kasparov could have gotten \"perpetual check\" in the second game, but it doesn't explain what that is (or show what it would have looked like on the board, which would have been interesting). It flashes back to the Kasparov-Karpov matches but doesn't explain why there were two of them or who organized them etc. I didn't need this information myself, but I'm familiar with it. If you don't already have chess experience, there are places where you are going to be confused, and this is just a defect in the film.<br /><br />Ultimately I can't recommend the movie, which, like \"THE TURK\" itself, is not what it purports to be (a documentary) but more of a stage illusion.\n",
      "Sentiment réel : 0, Sentiment prédit : 1\n",
      "\n"
     ]
    }
   ],
   "source": [
    "results = trainer.evaluate()\n",
    "print(f\"Evaluation Results: {results}\")\n",
    "# Prédiction sur les données de test\n",
    "predictions = trainer.predict(test_dataset)\n",
    "# Calcul des métriques de classification\n",
    "y_pred = predictions.predictions.argmax(axis=-1)\n",
    "print(classification_report(y_test, y_pred))\n",
    "import seaborn as sns\n",
    "import matplotlib.pyplot as plt\n",
    "# Affichage de la matrice de confusion\n",
    "cm = confusion_matrix(y_test, y_pred)\n",
    "sns.heatmap(cm, annot=True, fmt='d', cmap='Blues', xticklabels=['Negative', 'Positive'], yticklabels=['Negative', 'Positive'])\n",
    "plt.title(\"Matrice de Confusion\")\n",
    "plt.show()\n",
    "# Exemple d'erreurs de classification\n",
    "misclassified_indices = np.where(y_test != y_pred)[0]\n",
    "print(\"Exemple de critiques mal classées :\")\n",
    "for i in range(5):\n",
    "    index = misclassified_indices[i]\n",
    "    print(f\"Critique : {df.iloc[index]['review']}\")\n",
    "    print(f\"Sentiment réel : {y_test.iloc[index]}, Sentiment prédit : {y_pred[index]}\\n\")"
   ]
  },
  {
   "cell_type": "code",
   "execution_count": 26,
   "id": "298e14d7-8cde-4282-9c24-4e22afa3b2d6",
   "metadata": {},
   "outputs": [
    {
     "name": "stdout",
     "output_type": "stream",
     "text": [
      "Modèle enregistrés dans './saved_model'\n"
     ]
    }
   ],
   "source": [
    "model.save_pretrained('./saved_model')\n",
    "tokenizer.save_pretrained('./saved_model')\n",
    "print(\"Modèle enregistrés dans './saved_model'\")"
   ]
  },
  {
   "cell_type": "code",
   "execution_count": null,
   "id": "d2a3d8a2-a88f-469b-ac52-94544dcca88c",
   "metadata": {},
   "outputs": [],
   "source": []
  }
 ],
 "metadata": {
  "kernelspec": {
   "display_name": "Python 3 (ipykernel)",
   "language": "python",
   "name": "python3"
  },
  "language_info": {
   "codemirror_mode": {
    "name": "ipython",
    "version": 3
   },
   "file_extension": ".py",
   "mimetype": "text/x-python",
   "name": "python",
   "nbconvert_exporter": "python",
   "pygments_lexer": "ipython3",
   "version": "3.11.5"
  }
 },
 "nbformat": 4,
 "nbformat_minor": 5
}
